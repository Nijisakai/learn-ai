{
 "cells": [
  {
   "cell_type": "markdown",
   "metadata": {},
   "source": [
    "# 简介 "
   ]
  },
  {
   "cell_type": "markdown",
   "metadata": {},
   "source": [
    "**之前忘记了ffmpeg在Python里面的使用方法，所以用了比较复杂的给视频调帧率和加音轨的方法，这里感谢[@drrr_us](https://aistudio.baidu.com/aistudio/personalcenter/thirdview/105806)**大佬做出的修改，将提升转换帧率及添加音轨的效率\n",
    "项目地址:[点我](https://aistudio.baidu.com/aistudio/projectdetail/790567)"
   ]
  },
  {
   "cell_type": "markdown",
   "metadata": {},
   "source": [
    "**嘛...搞出来自己玩玩或者给朋友发就行了...还是不要传到b站为好**"
   ]
  },
  {
   "cell_type": "markdown",
   "metadata": {},
   "source": [
    ">   原作者:[我](https://github.com/AliaksandrSiarohin/first-order-model)还有[我](https://github.com/dunnousername/yanderifier)"
   ]
  },
  {
   "cell_type": "markdown",
   "metadata": {},
   "source": [
    "教程:[并不官方的教程](https://www.bilibili.com/video/BV1Mv41117LV)"
   ]
  },
  {
   "cell_type": "markdown",
   "metadata": {},
   "source": [
    "提示:本数据集为\"换脸\"数据集,全部的数据集可以在[这里](https://yadi.sk/d/lEw8uRm140L_eQ)找到\n",
    "\n",
    "1.vox-cpk.pth.tar效果[点我](https://gitee.com/xiaoxu12315/first-order-model/raw/master/sup-mat/vox-teaser.gif)\n",
    "\n",
    "2.mgif-cpk.pth.rar效果[点我](https://gitee.com/xiaoxu12315/first-order-model/raw/master/sup-mat/mgif-teaser.gif)\n",
    "\n",
    "3.fashion.pth.tar效果[点我](https://gitee.com/xiaoxu12315/first-order-model/raw/master/sup-mat/fashion-teaser.gif)"
   ]
  },
  {
   "cell_type": "markdown",
   "metadata": {},
   "source": [
    "# 其它玩法"
   ]
  },
  {
   "cell_type": "markdown",
   "metadata": {},
   "source": [
    "**我已经集成了这三个数据集,可以简单使用.**\n",
    "![](https://ai-studio-static-online.cdn.bcebos.com/355f06668b8a4ead88e684c952aaa4239e09e666253c4f1c91b931e59946606c)\n",
    "```\n",
    "from demo import load_checkpoints\n",
    "generator, kp_detector = load_checkpoints(config_path='first-order-model/config/vox-256.yaml', \n",
    "                            checkpoint_path='data/checkpoint.tar')\n",
    "                            #加载配置文件并加载数据集\n",
    "```\n",
    "**换动作视频修改为**\n",
    "```\n",
    "from demo import load_checkpoints\n",
    "generator, kp_detector = load_checkpoints(config_path='first-order-model/config/fashion-256.yaml', \n",
    "                            checkpoint_path='data/fashion.pth.tar')\n",
    "                            #加载配置文件并加载数据集\n",
    "```\n",
    "**换gif视频修改为**\n",
    "```\n",
    "from demo import load_checkpoints\n",
    "generator, kp_detector = load_checkpoints(config_path='first-order-model/config/mgif-256.yaml', \n",
    "                            checkpoint_path='data/mgif-cpk.pth.tar')\n",
    "                            #加载配置文件并加载数据集\n",
    "```\n"
   ]
  },
  {
   "cell_type": "markdown",
   "metadata": {},
   "source": [
    " **在file文件夹内放素材,将视频更改为import.mp4,图片更改为import.png**"
   ]
  },
  {
   "cell_type": "markdown",
   "metadata": {},
   "source": [
    "**视频和图片推荐分辨率:256x256,视频时长:一分钟内**"
   ]
  },
  {
   "cell_type": "markdown",
   "metadata": {},
   "source": [
    "**百度AI Studio不支持TF框架,可能会弹出不支持TF框架的提示,重启项目便可**\n",
    "表现:![](https://ai-studio-static-online.cdn.bcebos.com/a4ff3640d9a6486d99cf2749c27e8b681ac7bbf770644b94b692346eb0a74067)\n"
   ]
  },
  {
   "cell_type": "markdown",
   "metadata": {},
   "source": [
    "# 代码"
   ]
  },
  {
   "cell_type": "code",
   "execution_count": 1,
   "metadata": {},
   "outputs": [
    {
     "name": "stdout",
     "output_type": "stream",
     "text": [
      "/home/chy/Yanderifier\r\n"
     ]
    }
   ],
   "source": [
    "!pwd"
   ]
  },
  {
   "cell_type": "code",
   "execution_count": 2,
   "metadata": {},
   "outputs": [
    {
     "name": "stdout",
     "output_type": "stream",
     "text": [
      "checkpoint.tar\tfashion.pth.tar  mgif-cpk.pth.tar\r\n"
     ]
    }
   ],
   "source": [
    "#查看数据集\n",
    "!ls /home/chy/Yanderifier/data"
   ]
  },
  {
   "cell_type": "code",
   "execution_count": 3,
   "metadata": {},
   "outputs": [],
   "source": [
    "!ls /home/chy/Yanderifier/work"
   ]
  },
  {
   "cell_type": "code",
   "execution_count": 4,
   "metadata": {},
   "outputs": [],
   "source": [
    "import sys\n",
    "sys.path.append('/home/chy/Yanderifier/external-libraries')\n",
    "sys.path.append('/home/chy/Yanderifier/first-order-model')"
   ]
  },
  {
   "cell_type": "code",
   "execution_count": 5,
   "metadata": {},
   "outputs": [],
   "source": [
    "#!pip3 install --user wheel"
   ]
  },
  {
   "cell_type": "code",
   "execution_count": 6,
   "metadata": {},
   "outputs": [],
   "source": [
    "#!git clone https://gitee.com/xiaoxu12315/first-order-model.git\n",
    "#从码云克隆仓库\n",
    "!cd /home/chy/Yanderifier/first-order-model\n",
    "#进入工作目录\n",
    "#!pip3 install --user -i https://mirrors.aliyun.com/pypi/simple/ moviepy cffi==1.11.5 cloudpickle==1.2.1 cycler==0.10.0 dask==0.18.2 decorator==4.3.0 imageio==2.5.0 kiwisolver==1.0.1 matplotlib==2.2.2 networkx==2.1 numpy==1.15.0 pandas==0.23.4 Pillow==5.2.0 pycparser==2.18 pygit==0.1 pyparsing==2.2.0 python-dateutil==2.7.3 pytz==2018.5 PyWavelets==0.5.2 PyYAML==5.1 scikit-image==0.14.0 scikit-learn==0.19.2 scipy==1.1.0 six==1.14.0 toolz==0.9.0 torch==1.0.0 torchvision==0.2.1 tqdm==4.24.0\n",
    "#安装依赖"
   ]
  },
  {
   "cell_type": "code",
   "execution_count": 7,
   "metadata": {},
   "outputs": [],
   "source": [
    "#!pip3 install --user imageio_ffmpeg"
   ]
  },
  {
   "cell_type": "code",
   "execution_count": 8,
   "metadata": {},
   "outputs": [
    {
     "ename": "FileNotFoundError",
     "evalue": "No such file: '/home/chy/Yanderifier/file/import.png'",
     "output_type": "error",
     "traceback": [
      "\u001b[0;31m---------------------------------------------------------------------------\u001b[0m",
      "\u001b[0;31mFileNotFoundError\u001b[0m                         Traceback (most recent call last)",
      "\u001b[0;32m<ipython-input-8-d78c86e71cca>\u001b[0m in \u001b[0;36m<module>\u001b[0;34m\u001b[0m\n\u001b[1;32m      8\u001b[0m \u001b[0mwarnings\u001b[0m\u001b[0;34m.\u001b[0m\u001b[0mfilterwarnings\u001b[0m\u001b[0;34m(\u001b[0m\u001b[0;34m\"ignore\"\u001b[0m\u001b[0;34m)\u001b[0m\u001b[0;34m\u001b[0m\u001b[0;34m\u001b[0m\u001b[0m\n\u001b[1;32m      9\u001b[0m \u001b[0;34m\u001b[0m\u001b[0m\n\u001b[0;32m---> 10\u001b[0;31m \u001b[0msource_image\u001b[0m \u001b[0;34m=\u001b[0m \u001b[0mimageio\u001b[0m\u001b[0;34m.\u001b[0m\u001b[0mimread\u001b[0m\u001b[0;34m(\u001b[0m\u001b[0;34m'file/import.png'\u001b[0m\u001b[0;34m)\u001b[0m\u001b[0;34m\u001b[0m\u001b[0;34m\u001b[0m\u001b[0m\n\u001b[0m\u001b[1;32m     11\u001b[0m \u001b[0mdriving_video\u001b[0m \u001b[0;34m=\u001b[0m \u001b[0mimageio\u001b[0m\u001b[0;34m.\u001b[0m\u001b[0mmimread\u001b[0m\u001b[0;34m(\u001b[0m\u001b[0;34m'file/import.mp4'\u001b[0m\u001b[0;34m)\u001b[0m\u001b[0;34m\u001b[0m\u001b[0;34m\u001b[0m\u001b[0m\n\u001b[1;32m     12\u001b[0m \u001b[0;34m\u001b[0m\u001b[0m\n",
      "\u001b[0;32m~/.local/lib/python3.6/site-packages/imageio/core/functions.py\u001b[0m in \u001b[0;36mimread\u001b[0;34m(uri, format, **kwargs)\u001b[0m\n\u001b[1;32m    219\u001b[0m \u001b[0;34m\u001b[0m\u001b[0m\n\u001b[1;32m    220\u001b[0m     \u001b[0;31m# Get reader and read first\u001b[0m\u001b[0;34m\u001b[0m\u001b[0;34m\u001b[0m\u001b[0;34m\u001b[0m\u001b[0m\n\u001b[0;32m--> 221\u001b[0;31m     \u001b[0mreader\u001b[0m \u001b[0;34m=\u001b[0m \u001b[0mread\u001b[0m\u001b[0;34m(\u001b[0m\u001b[0muri\u001b[0m\u001b[0;34m,\u001b[0m \u001b[0mformat\u001b[0m\u001b[0;34m,\u001b[0m \u001b[0;34m\"i\"\u001b[0m\u001b[0;34m,\u001b[0m \u001b[0;34m**\u001b[0m\u001b[0mkwargs\u001b[0m\u001b[0;34m)\u001b[0m\u001b[0;34m\u001b[0m\u001b[0;34m\u001b[0m\u001b[0m\n\u001b[0m\u001b[1;32m    222\u001b[0m     \u001b[0;32mwith\u001b[0m \u001b[0mreader\u001b[0m\u001b[0;34m:\u001b[0m\u001b[0;34m\u001b[0m\u001b[0;34m\u001b[0m\u001b[0m\n\u001b[1;32m    223\u001b[0m         \u001b[0;32mreturn\u001b[0m \u001b[0mreader\u001b[0m\u001b[0;34m.\u001b[0m\u001b[0mget_data\u001b[0m\u001b[0;34m(\u001b[0m\u001b[0;36m0\u001b[0m\u001b[0;34m)\u001b[0m\u001b[0;34m\u001b[0m\u001b[0;34m\u001b[0m\u001b[0m\n",
      "\u001b[0;32m~/.local/lib/python3.6/site-packages/imageio/core/functions.py\u001b[0m in \u001b[0;36mget_reader\u001b[0;34m(uri, format, mode, **kwargs)\u001b[0m\n\u001b[1;32m    128\u001b[0m \u001b[0;34m\u001b[0m\u001b[0m\n\u001b[1;32m    129\u001b[0m     \u001b[0;31m# Create request object\u001b[0m\u001b[0;34m\u001b[0m\u001b[0;34m\u001b[0m\u001b[0;34m\u001b[0m\u001b[0m\n\u001b[0;32m--> 130\u001b[0;31m     \u001b[0mrequest\u001b[0m \u001b[0;34m=\u001b[0m \u001b[0mRequest\u001b[0m\u001b[0;34m(\u001b[0m\u001b[0muri\u001b[0m\u001b[0;34m,\u001b[0m \u001b[0;34m\"r\"\u001b[0m \u001b[0;34m+\u001b[0m \u001b[0mmode\u001b[0m\u001b[0;34m,\u001b[0m \u001b[0;34m**\u001b[0m\u001b[0mkwargs\u001b[0m\u001b[0;34m)\u001b[0m\u001b[0;34m\u001b[0m\u001b[0;34m\u001b[0m\u001b[0m\n\u001b[0m\u001b[1;32m    131\u001b[0m \u001b[0;34m\u001b[0m\u001b[0m\n\u001b[1;32m    132\u001b[0m     \u001b[0;31m# Get format\u001b[0m\u001b[0;34m\u001b[0m\u001b[0;34m\u001b[0m\u001b[0;34m\u001b[0m\u001b[0m\n",
      "\u001b[0;32m~/.local/lib/python3.6/site-packages/imageio/core/request.py\u001b[0m in \u001b[0;36m__init__\u001b[0;34m(self, uri, mode, **kwargs)\u001b[0m\n\u001b[1;32m    124\u001b[0m \u001b[0;34m\u001b[0m\u001b[0m\n\u001b[1;32m    125\u001b[0m         \u001b[0;31m# Parse what was given\u001b[0m\u001b[0;34m\u001b[0m\u001b[0;34m\u001b[0m\u001b[0;34m\u001b[0m\u001b[0m\n\u001b[0;32m--> 126\u001b[0;31m         \u001b[0mself\u001b[0m\u001b[0;34m.\u001b[0m\u001b[0m_parse_uri\u001b[0m\u001b[0;34m(\u001b[0m\u001b[0muri\u001b[0m\u001b[0;34m)\u001b[0m\u001b[0;34m\u001b[0m\u001b[0;34m\u001b[0m\u001b[0m\n\u001b[0m\u001b[1;32m    127\u001b[0m \u001b[0;34m\u001b[0m\u001b[0m\n\u001b[1;32m    128\u001b[0m         \u001b[0;31m# Set extension\u001b[0m\u001b[0;34m\u001b[0m\u001b[0;34m\u001b[0m\u001b[0;34m\u001b[0m\u001b[0m\n",
      "\u001b[0;32m~/.local/lib/python3.6/site-packages/imageio/core/request.py\u001b[0m in \u001b[0;36m_parse_uri\u001b[0;34m(self, uri)\u001b[0m\n\u001b[1;32m    276\u001b[0m                 \u001b[0;31m# Reading: check that the file exists (but is allowed a dir)\u001b[0m\u001b[0;34m\u001b[0m\u001b[0;34m\u001b[0m\u001b[0;34m\u001b[0m\u001b[0m\n\u001b[1;32m    277\u001b[0m                 \u001b[0;32mif\u001b[0m \u001b[0;32mnot\u001b[0m \u001b[0mos\u001b[0m\u001b[0;34m.\u001b[0m\u001b[0mpath\u001b[0m\u001b[0;34m.\u001b[0m\u001b[0mexists\u001b[0m\u001b[0;34m(\u001b[0m\u001b[0mfn\u001b[0m\u001b[0;34m)\u001b[0m\u001b[0;34m:\u001b[0m\u001b[0;34m\u001b[0m\u001b[0;34m\u001b[0m\u001b[0m\n\u001b[0;32m--> 278\u001b[0;31m                     \u001b[0;32mraise\u001b[0m \u001b[0mFileNotFoundError\u001b[0m\u001b[0;34m(\u001b[0m\u001b[0;34m\"No such file: '%s'\"\u001b[0m \u001b[0;34m%\u001b[0m \u001b[0mfn\u001b[0m\u001b[0;34m)\u001b[0m\u001b[0;34m\u001b[0m\u001b[0;34m\u001b[0m\u001b[0m\n\u001b[0m\u001b[1;32m    279\u001b[0m             \u001b[0;32melse\u001b[0m\u001b[0;34m:\u001b[0m\u001b[0;34m\u001b[0m\u001b[0;34m\u001b[0m\u001b[0m\n\u001b[1;32m    280\u001b[0m                 \u001b[0;31m# Writing: check that the directory to write to does exist\u001b[0m\u001b[0;34m\u001b[0m\u001b[0;34m\u001b[0m\u001b[0;34m\u001b[0m\u001b[0m\n",
      "\u001b[0;31mFileNotFoundError\u001b[0m: No such file: '/home/chy/Yanderifier/file/import.png'"
     ]
    }
   ],
   "source": [
    "import imageio\n",
    "import numpy as np\n",
    "import matplotlib.pyplot as plt\n",
    "import matplotlib.animation as animation\n",
    "from skimage.transform import resize\n",
    "from IPython.display import HTML\n",
    "import warnings\n",
    "warnings.filterwarnings(\"ignore\")\n",
    "\n",
    "source_image = imageio.imread('file/import.png')\n",
    "driving_video = imageio.mimread('file/import.mp4')\n",
    "\n",
    "\n",
    "#调整图片和视频分辨率\n",
    "\n",
    "source_image = resize(source_image, (256, 256))[..., :3]\n",
    "driving_video = [resize(frame, (256, 256))[..., :3] for frame in driving_video]\n",
    "\n",
    "def display(source, driving, generated=None):\n",
    "    fig = plt.figure(figsize=(8 + 4 * (generated is not None), 6))\n",
    "\n",
    "    ims = []\n",
    "    for i in range(len(driving)):\n",
    "        cols = [source]\n",
    "        cols.append(driving[i])\n",
    "        if generated is not None:\n",
    "            cols.append(generated[i])\n",
    "        im = plt.imshow(np.concatenate(cols, axis=1), animated=True)\n",
    "        plt.axis('off')\n",
    "        ims.append([im])\n",
    "\n",
    "    ani = animation.ArtistAnimation(fig, ims, interval=50, repeat_delay=1000)\n",
    "    plt.close()\n",
    "    return ani\n",
    "    \n",
    "\n",
    "HTML(display(source_image, driving_video).to_html5_video())"
   ]
  },
  {
   "cell_type": "code",
   "execution_count": null,
   "metadata": {},
   "outputs": [],
   "source": [
    "from demo import load_checkpoints\n",
    "generator, kp_detector = load_checkpoints(config_path='first-order-model/config/vox-256.yaml', \n",
    "                            checkpoint_path='data/checkpoint.tar')\n",
    "                            #加载配置文件并加载数据集"
   ]
  },
  {
   "cell_type": "code",
   "execution_count": null,
   "metadata": {},
   "outputs": [],
   "source": [
    "from demo import make_animation\n",
    "from skimage import img_as_ubyte\n",
    "\n",
    "predictions = make_animation(source_image, driving_video, generator, kp_detector, relative=True)\n",
    "\n",
    "#保存结果\n",
    "imageio.mimsave('file/result-10fps.mp4', [img_as_ubyte(frame) for frame in predictions])\n",
    "\n",
    "HTML(display(source_image, driving_video, predictions).to_html5_video())"
   ]
  },
  {
   "cell_type": "code",
   "execution_count": null,
   "metadata": {},
   "outputs": [],
   "source": [
    "import cv2\n",
    "from cv2 import VideoWriter,VideoWriter_fourcc\n",
    "!pwd\n",
    "video_root ='file/import.mp4'\n",
    "cap = cv2.VideoCapture(video_root)\n",
    "print (cap)\n",
    "fps = cap.get(cv2.CAP_PROP_FPS)\n",
    "print (fps)\n",
    "video_width = int(cap.get(cv2.CAP_PROP_FRAME_WIDTH))\n",
    "video_height = int(cap.get(cv2.CAP_PROP_FRAME_HEIGHT))\n",
    "resize_width = 256\n",
    "resize_height = 256\n",
    "double_fps = 2*fps\n",
    "print(video_height)\n",
    "print(video_width)\n",
    "print(fps)"
   ]
  },
  {
   "cell_type": "code",
   "execution_count": null,
   "metadata": {},
   "outputs": [],
   "source": [
    "import cv2\n",
    "from cv2 import VideoWriter,VideoWriter_fourcc\n",
    "\n",
    "video_root =\"file/result-10fps.mp4\"\n",
    "out_root = \"file/result-origin-fps.mp4\"\n",
    "cap = cv2.VideoCapture(video_root)\n",
    "resize_width = 256\n",
    "resize_height = 256\n",
    "double_fps = 2*fps\n",
    "\n",
    "fourcc = cv2.VideoWriter_fourcc('m','p','4','v')\n",
    "videoWriter = cv2.VideoWriter(out_root,fourcc,fps,(256,256))\n",
    "\n",
    "success = cap.isOpened()\n",
    "while (success):\n",
    "    success,frame = cap.read()\n",
    "    print(\"Read a new frame:\",success)\n",
    "    if not success:\n",
    "        break\n",
    "    frame = cv2.resize(frame,(256,256))\n",
    "    videoWriter.write(frame)\n",
    "videoWriter.release()"
   ]
  },
  {
   "cell_type": "code",
   "execution_count": null,
   "metadata": {},
   "outputs": [],
   "source": [
    "from moviepy.editor import *\n",
    "\n",
    "# 读取2个视频文件 \n",
    "videoclip_1 = VideoFileClip(\"file/import.mp4\")\n",
    "videoclip_2 = VideoFileClip(\"file/result-origin-fps.mp4\")\n",
    "\n",
    "# 提取第一个视频文件的音频部分\n",
    "audio_1 = videoclip_1.audio\n",
    "\n",
    "# 将提取的音频和第二个视频文件进行合成\n",
    "videoclip_3 = videoclip_2.set_audio(audio_1)\n",
    "\n",
    "# 输出新的视频文件\n",
    "videoclip_3.write_videofile(\"file/export.mp4\", audio_codec=\"aac\")"
   ]
  }
 ],
 "metadata": {
  "kernelspec": {
   "display_name": "Python 3",
   "language": "python",
   "name": "python3"
  },
  "language_info": {
   "codemirror_mode": {
    "name": "ipython",
    "version": 3
   },
   "file_extension": ".py",
   "mimetype": "text/x-python",
   "name": "python",
   "nbconvert_exporter": "python",
   "pygments_lexer": "ipython3",
   "version": "3.6.8"
  }
 },
 "nbformat": 4,
 "nbformat_minor": 1
}
